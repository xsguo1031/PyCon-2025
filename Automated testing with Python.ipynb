{
 "cells": [
  {
   "cell_type": "markdown",
   "metadata": {},
   "source": [
    "Back to foundations: Automated testing with Python\n",
    "\n",
    "Presented by Francesco Bruni"
   ]
  },
  {
   "cell_type": "code",
   "execution_count": 1,
   "metadata": {},
   "outputs": [
    {
     "name": "stdout",
     "output_type": "stream",
     "text": [
      "[OK]   pytest 8.3.5\n",
      "[OK]   pytest-cov 6.1.1\n",
      "[OK]   pytest-httpserver 1.1.3\n",
      "[OK]   requests 2.32.3\n",
      "[OK]   mutmut 2.5.1\n"
     ]
    }
   ],
   "source": [
    "import importlib\n",
    "import importlib.metadata\n",
    "import sys\n",
    "\n",
    "REQUIREMENTS = {\n",
    "    \"pytest\": None,\n",
    "    \"pytest-cov\": None,\n",
    "    \"pytest-httpserver\": None,\n",
    "    \"requests\": None,\n",
    "    \"mutmut\": \"2.5.1\",\n",
    "}\n",
    "\n",
    "def check_packages():\n",
    "    all_good = True\n",
    "\n",
    "    for package, required_version in REQUIREMENTS.items():\n",
    "        try:\n",
    "            # Check if module can be imported\n",
    "            importlib.import_module(package.replace(\"-\", \"_\"))\n",
    "\n",
    "            # Get installed version\n",
    "            installed_version = importlib.metadata.version(package)\n",
    "\n",
    "            if required_version and installed_version != required_version:\n",
    "                print(f\"[FAIL] {package} version mismatch: {installed_version} (required: {required_version})\")\n",
    "                all_good = False\n",
    "            else:\n",
    "                print(f\"[OK]   {package} {installed_version}\")\n",
    "\n",
    "        except ModuleNotFoundError:\n",
    "            print(f\"[FAIL] {package} not installed\")\n",
    "            all_good = False\n",
    "        except importlib.metadata.PackageNotFoundError:\n",
    "            print(f\"[FAIL] {package} metadata not found (possibly not installed properly)\")\n",
    "            all_good = False\n",
    "\n",
    "    return all_good\n",
    "\n",
    "if __name__ == \"__main__\":\n",
    "    if not check_packages():\n",
    "        sys.exit(1)\n"
   ]
  },
  {
   "cell_type": "code",
   "execution_count": null,
   "metadata": {},
   "outputs": [],
   "source": []
  }
 ],
 "metadata": {
  "kernelspec": {
   "display_name": "Python 3",
   "language": "python",
   "name": "python3"
  },
  "language_info": {
   "codemirror_mode": {
    "name": "ipython",
    "version": 3
   },
   "file_extension": ".py",
   "mimetype": "text/x-python",
   "name": "python",
   "nbconvert_exporter": "python",
   "pygments_lexer": "ipython3",
   "version": "3.13.3"
  }
 },
 "nbformat": 4,
 "nbformat_minor": 2
}
